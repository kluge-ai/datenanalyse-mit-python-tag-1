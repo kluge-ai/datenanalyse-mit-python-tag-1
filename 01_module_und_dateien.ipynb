{
 "cells": [
  {
   "cell_type": "markdown",
   "id": "23867dd3",
   "metadata": {},
   "source": [
    "# Module & Dateien"
   ]
  },
  {
   "cell_type": "markdown",
   "id": "a5b61aa6",
   "metadata": {},
   "source": [
    "## Importieren von Modulen"
   ]
  },
  {
   "cell_type": "code",
   "execution_count": null,
   "id": "0a70d91c",
   "metadata": {},
   "outputs": [],
   "source": []
  },
  {
   "cell_type": "markdown",
   "id": "60b1f499",
   "metadata": {},
   "source": [
    "## Dateien lesen & schreiben"
   ]
  },
  {
   "cell_type": "code",
   "execution_count": null,
   "id": "84c19da6",
   "metadata": {},
   "outputs": [],
   "source": []
  },
  {
   "cell_type": "markdown",
   "id": "fbd0cf41",
   "metadata": {},
   "source": [
    "**Aufgabe:** Die Zahlen in der Datei \"01_zahlen.txt\" in eine Liste einlesen, dabei verdoppeln, und anschließend in die Datei \"01_doppelte_zahlen.txt\" schreiben"
   ]
  },
  {
   "cell_type": "code",
   "execution_count": null,
   "id": "2c43fc31",
   "metadata": {},
   "outputs": [],
   "source": []
  },
  {
   "cell_type": "markdown",
   "id": "96ede65a",
   "metadata": {},
   "source": [
    "## Abschlussaufgabe"
   ]
  },
  {
   "cell_type": "code",
   "execution_count": null,
   "id": "28b2d608",
   "metadata": {},
   "outputs": [],
   "source": []
  },
  {
   "cell_type": "markdown",
   "id": "82016ec1",
   "metadata": {},
   "source": [
    "**Aufgabe:** Die Datei \"01_tabelle.txt\" in ein Dictionary mit Namen `daten` einlesen, bei dem die erste Zeile der Datei die Spalten-Namen sind und die folgenden Zeilen die Werte.\n",
    "\n",
    "Dazu:\n",
    "\n",
    "1. Die erste Zeile und die restlichen Zeilen jeweils in eine Variable einlesen\n",
    "\n",
    "2. Ein leeres Dictionary anlegen\n",
    "\n",
    "3. Alle Spalten durchgehen, dabei jeweils die Zahlen einlesen und dann unter dem Spalten-Namen im Dictionary ablegen\n",
    "\n",
    "Tipp: Mit der Funktion `.strip()` können unerwünschte Zeilenumbrüche entfernt werden (z.B. `\"Eine Zeile\\n\".strip()`)."
   ]
  },
  {
   "cell_type": "code",
   "execution_count": null,
   "id": "ca424b98",
   "metadata": {},
   "outputs": [],
   "source": []
  },
  {
   "cell_type": "markdown",
   "id": "68545234",
   "metadata": {},
   "source": [
    "**Aufgabe:** Eine Funktion `durchschnitt(tabelle, spalte)`, die den Durchschnitt der Spalte `spalte` in der Tabelle `tabelle` berechnet."
   ]
  },
  {
   "cell_type": "code",
   "execution_count": 65,
   "id": "6c646d07",
   "metadata": {},
   "outputs": [],
   "source": []
  },
  {
   "cell_type": "code",
   "execution_count": null,
   "id": "bc4638b9",
   "metadata": {},
   "outputs": [],
   "source": [
    "durchschnitt(daten, \"Spalte C\")"
   ]
  },
  {
   "cell_type": "markdown",
   "id": "858ff824",
   "metadata": {},
   "source": [
    "**Aufgabe:** Eine Funktion `durchschnitte_speichern(tabelle)`, die für alle Spalten in der Tabelle `tabelle` die Durchschnitte berechnet (mit der gerade programmierten Funktion `durchschnitt()`) und das Ergebnis in eine Textdatei `01_durchschnitte.txt` schreibt, die den gleichen Aufbau hat wie `01_tabelle.txt`.\n",
    "\n",
    "Dazu:\n",
    "\n",
    "1. Die Textdatei zum Schreiben öffnen\n",
    "\n",
    "2. Die Namen der Spalten mit Kommata getrennt in die Datei schreiben. Anschließend einen Zeilenumbruch (\"\\n\") einfügen.\n",
    "\n",
    "3. Den Durchschnitt jeder Spalte berechnen und mit Kommata getrennt in die Datei schreiben."
   ]
  },
  {
   "cell_type": "code",
   "execution_count": null,
   "id": "181ff07d",
   "metadata": {},
   "outputs": [],
   "source": []
  },
  {
   "cell_type": "code",
   "execution_count": null,
   "id": "e1bdcfd0",
   "metadata": {},
   "outputs": [],
   "source": [
    "durchschnitte_speichern(daten)"
   ]
  },
  {
   "cell_type": "markdown",
   "id": "64a9f4df",
   "metadata": {},
   "source": [
    "**Bonus-Aufgabe:** Eine Funktion schreiben, die überprüft, dass alle Spalten einer Tabelle `tabelle` gleich viele Einträge haben, d.h. alle gleich lang sind."
   ]
  },
  {
   "cell_type": "code",
   "execution_count": null,
   "id": "678848e1",
   "metadata": {},
   "outputs": [],
   "source": []
  },
  {
   "cell_type": "code",
   "execution_count": null,
   "id": "80257627",
   "metadata": {},
   "outputs": [],
   "source": [
    "laengen_check(daten)"
   ]
  }
 ],
 "metadata": {
  "kernelspec": {
   "display_name": "Python 3 (ipykernel)",
   "language": "python",
   "name": "python3"
  },
  "language_info": {
   "codemirror_mode": {
    "name": "ipython",
    "version": 3
   },
   "file_extension": ".py",
   "mimetype": "text/x-python",
   "name": "python",
   "nbconvert_exporter": "python",
   "pygments_lexer": "ipython3",
   "version": "3.9.7"
  }
 },
 "nbformat": 4,
 "nbformat_minor": 5
}
