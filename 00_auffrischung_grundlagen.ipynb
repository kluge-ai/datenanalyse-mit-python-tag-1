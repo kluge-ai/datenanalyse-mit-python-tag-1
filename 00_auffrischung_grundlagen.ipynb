{
 "cells": [
  {
   "cell_type": "markdown",
   "id": "48540fdd",
   "metadata": {},
   "source": [
    "# Grundlagen Python"
   ]
  },
  {
   "cell_type": "markdown",
   "id": "896c82ef",
   "metadata": {},
   "source": [
    "## Variablen"
   ]
  },
  {
   "cell_type": "code",
   "execution_count": null,
   "id": "e038c0a2",
   "metadata": {},
   "outputs": [],
   "source": []
  },
  {
   "cell_type": "markdown",
   "id": "eb6ce386",
   "metadata": {},
   "source": [
    "**Aufgabe:** Was passiert wenn man Strings addiert?"
   ]
  },
  {
   "cell_type": "code",
   "execution_count": null,
   "id": "d322c3d8",
   "metadata": {},
   "outputs": [],
   "source": []
  },
  {
   "cell_type": "markdown",
   "id": "954f7263",
   "metadata": {},
   "source": [
    "**Aufgabe:** Was passiert, wenn man Strings und Zahlen in einer Rechenoperation mischt? (Alle Grundrechenarten ausprobieren!)"
   ]
  },
  {
   "cell_type": "code",
   "execution_count": null,
   "id": "1d8f8df7",
   "metadata": {},
   "outputs": [],
   "source": []
  },
  {
   "cell_type": "markdown",
   "id": "d0625c27",
   "metadata": {},
   "source": [
    "## Listen & Schleifen"
   ]
  },
  {
   "cell_type": "code",
   "execution_count": null,
   "id": "2a2fae91",
   "metadata": {},
   "outputs": [],
   "source": []
  },
  {
   "cell_type": "markdown",
   "id": "743e095d",
   "metadata": {},
   "source": [
    "## Dictionaries"
   ]
  },
  {
   "cell_type": "code",
   "execution_count": null,
   "id": "b79488fd",
   "metadata": {},
   "outputs": [],
   "source": []
  },
  {
   "cell_type": "markdown",
   "id": "e3e6d55b",
   "metadata": {},
   "source": [
    "**Aufgabe:** Die Daten spaltenweise drucken."
   ]
  },
  {
   "cell_type": "code",
   "execution_count": null,
   "id": "a5719f26",
   "metadata": {},
   "outputs": [],
   "source": []
  },
  {
   "cell_type": "markdown",
   "id": "45a2b248",
   "metadata": {},
   "source": [
    "**Aufgabe:** Die Daten zeilenweise drucken."
   ]
  },
  {
   "cell_type": "code",
   "execution_count": null,
   "id": "199ae323",
   "metadata": {},
   "outputs": [],
   "source": []
  },
  {
   "cell_type": "markdown",
   "id": "3221f0cb",
   "metadata": {},
   "source": [
    "## Funktionen"
   ]
  },
  {
   "cell_type": "code",
   "execution_count": null,
   "id": "bfdc9a93",
   "metadata": {},
   "outputs": [],
   "source": []
  },
  {
   "cell_type": "markdown",
   "id": "d382aa2d",
   "metadata": {},
   "source": [
    "**Aufgabe:** Eine Funktion, die jeden Wert einer Liste verdoppelt und ausgibt."
   ]
  },
  {
   "cell_type": "code",
   "execution_count": null,
   "id": "103a3103",
   "metadata": {},
   "outputs": [],
   "source": []
  },
  {
   "cell_type": "markdown",
   "id": "94171c1a",
   "metadata": {},
   "source": [
    "**Aufgabe:** Die Werte innerhalb der Liste verdoppeln."
   ]
  },
  {
   "cell_type": "code",
   "execution_count": null,
   "id": "e3d91319",
   "metadata": {},
   "outputs": [],
   "source": []
  },
  {
   "cell_type": "markdown",
   "id": "fdcdff85",
   "metadata": {},
   "source": [
    "**Abschlussaufgabe:** Die Werte einer Liste verdoppeln, aber dabei eine _neue_ Liste erzeugen und zurückgeben."
   ]
  },
  {
   "cell_type": "code",
   "execution_count": null,
   "id": "de482115",
   "metadata": {},
   "outputs": [],
   "source": []
  }
 ],
 "metadata": {
  "kernelspec": {
   "display_name": "Python 3 (ipykernel)",
   "language": "python",
   "name": "python3"
  },
  "language_info": {
   "codemirror_mode": {
    "name": "ipython",
    "version": 3
   },
   "file_extension": ".py",
   "mimetype": "text/x-python",
   "name": "python",
   "nbconvert_exporter": "python",
   "pygments_lexer": "ipython3",
   "version": "3.9.7"
  }
 },
 "nbformat": 4,
 "nbformat_minor": 5
}
