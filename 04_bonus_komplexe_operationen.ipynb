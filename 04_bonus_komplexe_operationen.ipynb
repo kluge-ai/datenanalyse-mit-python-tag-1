{
 "cells": [
  {
   "cell_type": "markdown",
   "id": "1d7bb47b",
   "metadata": {},
   "source": [
    "# Komplexe Operationen (optional)"
   ]
  },
  {
   "cell_type": "markdown",
   "id": "dd147107",
   "metadata": {},
   "source": [
    "**Aufgabe:** Die Datei `daten/beschwerdestatistik_reduziert.csv` in ein Dictionary laden, bei dem die Spaltennamen die Schlüssel/Keys sind und die Werte als Numpy-Arrays gespeichert werden. (Diese Funktion kann aus Teil 2 übernommen und angepasst werden.)\n",
    "\n",
    "Tipp: Die identischen Daten sind auch als Excel-Datei verfügbar."
   ]
  },
  {
   "cell_type": "code",
   "execution_count": null,
   "id": "0b9932ae",
   "metadata": {},
   "outputs": [],
   "source": []
  },
  {
   "cell_type": "markdown",
   "id": "10aa8fcd",
   "metadata": {},
   "source": [
    "**Aufgabe:** Welche Typen von Versicherungen sind in dem Statistik-Auszug enthalten?"
   ]
  },
  {
   "cell_type": "code",
   "execution_count": null,
   "id": "25feb585",
   "metadata": {},
   "outputs": [],
   "source": []
  },
  {
   "cell_type": "markdown",
   "id": "f84cdc9a",
   "metadata": {},
   "source": [
    "**Aufgabe:** Was sind jeweils die drei größten Versicherer (nach Anzahl der Versicherten) pro Typ in der Statistik?"
   ]
  },
  {
   "cell_type": "code",
   "execution_count": null,
   "id": "d1fe9517",
   "metadata": {},
   "outputs": [],
   "source": []
  },
  {
   "cell_type": "markdown",
   "id": "1eed2bc5",
   "metadata": {},
   "source": [
    "**Aufgabe:** Wie viele Versicherte haben die verschiedenen Versicherungstypen im Schnitt?"
   ]
  },
  {
   "cell_type": "code",
   "execution_count": null,
   "id": "feacb475",
   "metadata": {},
   "outputs": [],
   "source": []
  },
  {
   "cell_type": "markdown",
   "id": "3a2d4e77",
   "metadata": {},
   "source": [
    "**Aufgabe:** Was sind die durchschnittlichen Beschwerde-Raten für die verschiedenen Versicherungstypen?"
   ]
  },
  {
   "cell_type": "code",
   "execution_count": null,
   "id": "cd8469df",
   "metadata": {},
   "outputs": [],
   "source": []
  },
  {
   "cell_type": "markdown",
   "id": "55ec5faa",
   "metadata": {},
   "source": [
    "**Bonusaufgabe:** Entwicklung einer allgemeinen Group-By-Funktion. Das Ziel ist es, eine beliebige Funktion auf einer Teilmenge der Zeilen zu berechnen. Die Teilmenge wird durch den Wert einer anderen Spalte definiert.\n",
    "\n",
    "Die Funktion hat die Signatur: `gruppieren(spalte_gruppe, spalte_berechnung, funktion)`\n",
    "\n",
    "Zum Beispiel: `gruppieren(\"Typ\", \"Beschwerden\", np.mean)` ergibt eine Ausgabe der Form `{\"Kranken\": 12.33, ... }`. Für jeden Typ wird die Funktion `np.mean` auf die Spalte \"Beschwerden\" angewandt."
   ]
  },
  {
   "cell_type": "code",
   "execution_count": null,
   "id": "ebddff0a",
   "metadata": {},
   "outputs": [],
   "source": []
  }
 ],
 "metadata": {
  "kernelspec": {
   "display_name": "Python 3 (ipykernel)",
   "language": "python",
   "name": "python3"
  },
  "language_info": {
   "codemirror_mode": {
    "name": "ipython",
    "version": 3
   },
   "file_extension": ".py",
   "mimetype": "text/x-python",
   "name": "python",
   "nbconvert_exporter": "python",
   "pygments_lexer": "ipython3",
   "version": "3.9.7"
  }
 },
 "nbformat": 4,
 "nbformat_minor": 5
}
