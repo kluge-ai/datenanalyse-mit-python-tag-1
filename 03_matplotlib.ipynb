{
 "cells": [
  {
   "cell_type": "markdown",
   "id": "d101f2bf",
   "metadata": {},
   "source": [
    "# Matplotlib"
   ]
  },
  {
   "cell_type": "code",
   "execution_count": 1,
   "id": "abc44a5a",
   "metadata": {},
   "outputs": [],
   "source": []
  },
  {
   "cell_type": "markdown",
   "id": "2c250c78",
   "metadata": {},
   "source": [
    "**Aufgabe:** Scatter-Plot einer Sinus-Kurve.\n",
    "\n",
    "Dazu:\n",
    "\n",
    "1. Mit der Funktion `np.linspace()` ein Array erstellen.\n",
    "\n",
    "2. Die Sinus-Werte mit `np.sin()` berechnen. (Tipp: `np.pi` ist als Konstante definiert.)\n",
    "\n",
    "3. Mit `plt.scatter()` plotten.\n",
    "\n",
    "4. Zusätzlich (in der selben Notebook-Zelle) mit `plt.plot()` noch einen Line-Plot anlegen.\n",
    "\n",
    "5. Die Anzahl der geplotteten Punkte variieren.\n",
    "\n",
    "6. Die X-Achse mit \"Winkel\" beschriften (`plt.xlabel(\"Winkel\")`) und die Y-Achse (`plt.ylabel()`) mit \"Wert\".\n",
    "\n",
    "7. Mit `plt.legend()` eine Legende einfügen.\n",
    "\n",
    "8. Dem Line-Plot das Label \"sin(x)\" geben (`plt.plot( ..., label=\"sin(x)\")`).\n",
    "\n",
    "9. Einen Line-Plot für den Cosinus inkl. Label für die Legende hinzufügen (`np.cos()`)."
   ]
  },
  {
   "cell_type": "code",
   "execution_count": null,
   "id": "ff163b1a",
   "metadata": {},
   "outputs": [],
   "source": []
  },
  {
   "cell_type": "markdown",
   "id": "84358c97",
   "metadata": {},
   "source": [
    "## Abschlussaufgaben\n",
    "\n",
    "Die BaFin (Bundesanstalt für Finanzdiensleistungsaufsicht) erhebt eine Beschwerdestatistik für Versicherungsunternehmen. [Weitere Details hier](https://www.bafin.de/DE/PublikationenDaten/Statistiken/Beschwerde/beschwerdestatistik_node.html).\n",
    "\n",
    "Die folgenden Aufgaben befassen sich mit einem Teil dieser Daten für das Jahr 2022, konkret den Daten zu privaten Krankenversicherungen."
   ]
  },
  {
   "cell_type": "code",
   "execution_count": 4,
   "id": "06fed899",
   "metadata": {},
   "outputs": [],
   "source": [
    "import pickle\n",
    "with open(\"daten/beschwerdestatistik_pkv.pickle\", \"rb\") as f:\n",
    "    statistik = pickle.load(f)"
   ]
  },
  {
   "cell_type": "markdown",
   "id": "3f6fb823",
   "metadata": {},
   "source": [
    "Die Daten liegen in dem bislang gewohnten Format vor:"
   ]
  },
  {
   "cell_type": "code",
   "execution_count": 6,
   "id": "adf227ce",
   "metadata": {},
   "outputs": [
    {
     "data": {
      "text/plain": [
       "{'Reg-Nr.': array([4001, 4002, 4004, 4011, 4028, 4034, 4037, 4039, 4043, 4044, 4045,\n",
       "        4095, 4108, 4109, 4112, 4116, 4117, 4118, 4119, 4121, 4125, 4126,\n",
       "        4131, 4134, 4139, 4142, 4143, 4144, 4145, 4146, 4147]),\n",
       " 'Name': array(['CONTINENTALE KRANKEN', 'SIGNAL IDUNA KRANKEN',\n",
       "        'GENERALI KRANKEN AG', 'LANDESKRANKENHILFE', 'DEBEKA KRANKEN',\n",
       "        'ALLIANZ PRIV.KV ', 'MÜNCHEN.VEREIN KV', 'SÜDDEUTSCHE KRANKEN',\n",
       "        'HALLESCHE KRANKEN', 'DKV AG', 'UNIVERSA KRANKEN', 'AXA KRANKEN',\n",
       "        'UNION KRANKENVERS.', 'LVM KRANKEN', 'ARAG KRANKEN', 'R+V KRANKEN',\n",
       "        'HUK-COBURG KRANKEN', 'CONCORDIA KRANKEN', 'GOTHAER KV AG',\n",
       "        'ENVIVAS KRANKEN', 'NÜRNBG. KRANKEN', 'ERGO KRANKEN',\n",
       "        'DEVK KRANKENVERS.-AG', 'BAYERISCHE BEAMTEN K', 'WÜRTT. KRANKEN',\n",
       "        'ALTE OLDENBURGER AG', 'VRK KV AG', 'HANSEMERKUR KV AG',\n",
       "        'INTER KV AG', 'OTTONOVA KRANKEN', 'BARMENIA KV AG'], dtype='<U20'),\n",
       " 'Bestand': array([1308630, 2502385, 1799563,  329419, 4224598, 2794821,  453955,\n",
       "         639245,  852211, 4310059,  361351, 1734263, 1358641,  409228,\n",
       "         704413, 1468557, 1139380,  126135,  695617,  437498,  371417,\n",
       "        1772507,  472852, 1146039,  468065,  157672,  166326, 1574466,\n",
       "         388537,   26122, 1803967]),\n",
       " 'Beschwerden': array([ 26,  29,  57,  15, 124,  38,  20,  21,  30,  67,  10,  73,  11,\n",
       "          4,  19,  10,  22,   3,  18,   2,   7,  12,   2,  17,   1,   1,\n",
       "          3,  18,  25,   3,  44])}"
      ]
     },
     "execution_count": 6,
     "metadata": {},
     "output_type": "execute_result"
    }
   ],
   "source": [
    "statistik"
   ]
  },
  {
   "cell_type": "markdown",
   "id": "a4b2b835",
   "metadata": {},
   "source": [
    "**Aufgabe:** Plot der Anzahl der Beschwerden vs. Anzahl der Versicherten inklusive Beschriftung der Achsen und Legende."
   ]
  },
  {
   "cell_type": "code",
   "execution_count": null,
   "id": "83640c96",
   "metadata": {},
   "outputs": [],
   "source": []
  },
  {
   "cell_type": "markdown",
   "id": "06e17420",
   "metadata": {},
   "source": [
    "**Aufgabe:** Wie viele Beschwerden wurden insgesamt 2022 an die BaFin gemeldet? Wie viele Beschwerden erhielt jedes Unternehmen im Durchschnitt?"
   ]
  },
  {
   "cell_type": "code",
   "execution_count": null,
   "id": "d922b871",
   "metadata": {},
   "outputs": [],
   "source": []
  },
  {
   "cell_type": "markdown",
   "id": "f7e7da41",
   "metadata": {},
   "source": [
    "**Aufgabe:** Wie ist das Verhältnis von Beschwerden zu Versicherten für jede einzelne Versicherung?\n",
    "\n",
    "Dazu:\n",
    "\n",
    "1. Verhältnis ausrechnen und einer Variable `rate` zuweisen.\n",
    "\n",
    "2. Mit `plt.barh(statistik[\"Name\"], rate)` ein (horizontales) Balkendiagramm zeichnen.\n",
    "\n",
    "3. Die X-Achse sinnvoll skalieren und beschriften."
   ]
  },
  {
   "cell_type": "code",
   "execution_count": null,
   "id": "ca713d14",
   "metadata": {},
   "outputs": [],
   "source": []
  },
  {
   "cell_type": "markdown",
   "id": "92b37be6",
   "metadata": {},
   "source": [
    "**Aufgabe:** Wie ist das durchschnittliche Verhältnis von Beschwerden zu Versicherten? Diese durchschnittliche Rate in den Plot \"Beschwerden vs Versicherte\" eintragen.\n",
    "\n",
    "Dazu:\n",
    "\n",
    "1. Das Verhältnis errechnen und einer Variable `durchschnitt` zuweisen.\n",
    "\n",
    "2. Die zum Plotten nötigen Daten erzeugen (Tipp: `np.linspace` benutzen und mit `np.max` die obere Grenze ermitteln.)\n",
    "\n",
    "3. Den Code zum Plotten kopieren & anpassen."
   ]
  },
  {
   "cell_type": "code",
   "execution_count": null,
   "id": "7dd853a8",
   "metadata": {},
   "outputs": [],
   "source": []
  },
  {
   "cell_type": "markdown",
   "id": "31d01633",
   "metadata": {},
   "source": [
    "**Bonusaufgabe:** Die Versicherungen im Balkendiagramm nach Beschwerde-Rate ordnen.\n",
    "\n",
    "Dazu:\n",
    "\n",
    "1. Die `rate` mit `np.sort()` sortieren und das Ergebnis einer neuen Variable `rate_sortiert` zuweisen.\n",
    "\n",
    "2. Die Namen nach der selben Reihenfolge sortieren. Dazu kann die Funktion `np.argsort()` zum Einsatz kommen, um die Sortierung von `rate` auf die Namen-Spalte zu übertragen. Was ergibt `np.argsort(rate)`? Was ergibt `statistik[\"Name\"][np.argsort(rate)]`? Das Ergebnis einer neuen Variable `namen_sortiert` zuweisen.\n",
    "\n",
    "3. Analog zur vorherigen Aufgabe einen horizontalen Barplot erstellen."
   ]
  },
  {
   "cell_type": "code",
   "execution_count": null,
   "id": "e5de8195",
   "metadata": {},
   "outputs": [],
   "source": []
  },
  {
   "cell_type": "markdown",
   "id": "202668fa",
   "metadata": {},
   "source": [
    "**Bonusaufgabe:** Eine Funktion `sortieren(tabelle, spalte)` entwickeln, die die komplette Tabelle nach der Spalte `spalte` sortiert."
   ]
  },
  {
   "cell_type": "code",
   "execution_count": null,
   "id": "137e805f",
   "metadata": {},
   "outputs": [],
   "source": []
  }
 ],
 "metadata": {
  "kernelspec": {
   "display_name": "Python 3 (ipykernel)",
   "language": "python",
   "name": "python3"
  },
  "language_info": {
   "codemirror_mode": {
    "name": "ipython",
    "version": 3
   },
   "file_extension": ".py",
   "mimetype": "text/x-python",
   "name": "python",
   "nbconvert_exporter": "python",
   "pygments_lexer": "ipython3",
   "version": "3.9.7"
  }
 },
 "nbformat": 4,
 "nbformat_minor": 5
}
