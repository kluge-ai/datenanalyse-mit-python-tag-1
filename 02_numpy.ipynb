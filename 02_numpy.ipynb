{
 "cells": [
  {
   "cell_type": "markdown",
   "id": "02483823",
   "metadata": {},
   "source": [
    "# NumPy"
   ]
  },
  {
   "cell_type": "markdown",
   "id": "7b7eae1b",
   "metadata": {},
   "source": [
    "## Warum brauchen wir NumPy?"
   ]
  },
  {
   "cell_type": "code",
   "execution_count": null,
   "id": "02e80986",
   "metadata": {},
   "outputs": [],
   "source": []
  },
  {
   "cell_type": "markdown",
   "id": "3264f3d0",
   "metadata": {},
   "source": [
    "## Eindimensionale Arrays"
   ]
  },
  {
   "cell_type": "code",
   "execution_count": null,
   "id": "9c69c0a2",
   "metadata": {},
   "outputs": [],
   "source": []
  },
  {
   "cell_type": "markdown",
   "id": "f0157497",
   "metadata": {},
   "source": [
    "## Einige NumPy-Funktionen"
   ]
  },
  {
   "cell_type": "code",
   "execution_count": null,
   "id": "333b6f85",
   "metadata": {},
   "outputs": [],
   "source": []
  },
  {
   "cell_type": "markdown",
   "id": "dbb8a77d",
   "metadata": {},
   "source": [
    "Übersicht aller Statistik-Funktionen: [Statistics](https://numpy.org/doc/stable/reference/routines.statistics.html)"
   ]
  },
  {
   "cell_type": "markdown",
   "id": "d4be3fad",
   "metadata": {},
   "source": [
    "## Speichern und Laden"
   ]
  },
  {
   "cell_type": "code",
   "execution_count": null,
   "id": "54390a50",
   "metadata": {},
   "outputs": [],
   "source": []
  },
  {
   "cell_type": "markdown",
   "id": "8b188668",
   "metadata": {},
   "source": [
    "## Mehrdimensionale Arrays"
   ]
  },
  {
   "cell_type": "code",
   "execution_count": null,
   "id": "c5277b2c",
   "metadata": {},
   "outputs": [],
   "source": []
  },
  {
   "cell_type": "markdown",
   "id": "71cff8b3",
   "metadata": {},
   "source": [
    "**Aufgabe:** Erstelle ein Array `a` mit der Form (1, 3, 2) und ein Array `b` mit der Form (1, 2)."
   ]
  },
  {
   "cell_type": "code",
   "execution_count": null,
   "id": "d98c3b05",
   "metadata": {},
   "outputs": [],
   "source": []
  },
  {
   "cell_type": "markdown",
   "id": "12f0b7f1",
   "metadata": {},
   "source": [
    "**Aufgabe:** Verrechne `a` und `b` miteinander (Grundrechenarten). Was passiert?"
   ]
  },
  {
   "cell_type": "code",
   "execution_count": null,
   "id": "df120ece",
   "metadata": {},
   "outputs": [],
   "source": []
  },
  {
   "cell_type": "markdown",
   "id": "15da73cd",
   "metadata": {},
   "source": [
    "## Dimensionen & Achsen"
   ]
  },
  {
   "cell_type": "code",
   "execution_count": null,
   "id": "86e776d7",
   "metadata": {},
   "outputs": [],
   "source": []
  },
  {
   "cell_type": "markdown",
   "id": "4db70b64",
   "metadata": {},
   "source": [
    "**Aufgabe:** Was ist die Summe der Achse 2? Was ist die Summe der Achse 0? Welche Form (Shape) haben die Ergebnisse dieser Berechnungen?"
   ]
  },
  {
   "cell_type": "code",
   "execution_count": null,
   "id": "741fb85b",
   "metadata": {},
   "outputs": [],
   "source": []
  },
  {
   "cell_type": "markdown",
   "id": "bcd4f2df",
   "metadata": {},
   "source": [
    "## Abschlussaufgabe\n",
    "\n",
    "Umbau der in Teil 01 programmmierten Lösung auf NumPy. Dazu gerne die erarbeitete Lösung kopieren und dann Schritt für Schritt anpassen.\n",
    "\n",
    "**Aufgabe:** Die Datei \"01_tabelle.txt\" in ein Dictionary einlesen, bei dem die erste Zeile der Datei die Spalten-Namen sind und die folgenden Zeilen die Werte."
   ]
  },
  {
   "cell_type": "code",
   "execution_count": null,
   "id": "348e5fbc",
   "metadata": {},
   "outputs": [],
   "source": []
  },
  {
   "cell_type": "markdown",
   "id": "4ea23d5c",
   "metadata": {},
   "source": [
    "**Aufgabe:** Eine Funktion `durchschnitt(tabelle, spalte)`, die den Durchschnitt der Spalte `spalte` in der Tabelle `tabelle` berechnet."
   ]
  },
  {
   "cell_type": "code",
   "execution_count": null,
   "id": "015f31d2",
   "metadata": {},
   "outputs": [],
   "source": []
  },
  {
   "cell_type": "code",
   "execution_count": null,
   "id": "f4122388",
   "metadata": {},
   "outputs": [],
   "source": [
    "durchschnitt(daten, \"Spalte C\")"
   ]
  },
  {
   "cell_type": "markdown",
   "id": "7e92baf9",
   "metadata": {},
   "source": [
    "**Aufgabe:** Speichern und Laden der Tabelle `tabelle` als vollständige Datenstruktur.\n",
    "    \n",
    "Dazu:\n",
    "\n",
    "1. Mit `import pickle` das dazu nötige Python-Standardmodul importieren.\n",
    "\n",
    "2. Eine Datei `02_tabelle.pickle` zum Schreiben im Modus `wb` öffnen (benenne das Datei-Objekt wie bisher als `f`).\n",
    "\n",
    "3. Mit `pickle.dump(daten, f)` die Tabelle in die Datei schreiben.\n",
    "\n",
    "4. Die Datei `02_tabelle.pickle` zum Lesen im Modus `wb` öffnen (wieder das Datei-Objekt `f` nennen)\n",
    "\n",
    "5. Lade mit `pickle.load(f)` die Daten und weise sie der Variable `geladen` zu.\n",
    "\n",
    "6. Vergleiche `daten` und `geladen`."
   ]
  },
  {
   "cell_type": "code",
   "execution_count": null,
   "id": "e54f0d1f",
   "metadata": {},
   "outputs": [],
   "source": []
  },
  {
   "cell_type": "markdown",
   "id": "e4434a6f",
   "metadata": {},
   "source": [
    "**Bonus-Aufgabe:** Eine Funktion, die überprüft, ob zwei Tabellen identisch sind."
   ]
  },
  {
   "cell_type": "code",
   "execution_count": null,
   "id": "240a2925",
   "metadata": {},
   "outputs": [],
   "source": []
  }
 ],
 "metadata": {
  "kernelspec": {
   "display_name": "Python 3 (ipykernel)",
   "language": "python",
   "name": "python3"
  },
  "language_info": {
   "codemirror_mode": {
    "name": "ipython",
    "version": 3
   },
   "file_extension": ".py",
   "mimetype": "text/x-python",
   "name": "python",
   "nbconvert_exporter": "python",
   "pygments_lexer": "ipython3",
   "version": "3.9.7"
  }
 },
 "nbformat": 4,
 "nbformat_minor": 5
}
